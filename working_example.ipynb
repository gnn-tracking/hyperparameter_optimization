{
 "cells": [
  {
   "cell_type": "raw",
   "id": "1a72a8c6",
   "metadata": {},
   "source": []
  },
  {
   "cell_type": "code",
   "execution_count": null,
   "id": "b0531c62",
   "metadata": {},
   "outputs": [],
   "source": [
    "%load_ext autoreload\n",
    "%autoreload 2\n",
    "import torch\n",
    "from numpy.random import uniform\n",
    "from torch_geometric.loader import DataLoader\n",
    "from gnn_tracking.preprocessing.point_cloud_builder import PointCloudBuilder\n",
    "from gnn_tracking.utils.plotting import GraphPlotter\n",
    "from gnn_tracking.utils.plotting import PointCloudPlotter\n",
    "from gnn_tracking.models.track_condensation_networks import PointCloudTCN, GraphTCN"
   ]
  },
  {
   "cell_type": "code",
   "execution_count": null,
   "id": "8fb9c650",
   "metadata": {},
   "outputs": [],
   "source": [
    "from gnn_tracking.utils.plotting import EventPlotter\n",
    "\n",
    "# we'll use n_evts * n_sectors = 640 graphs\n",
    "n_evts, n_sectors = 10, 64\n",
    "indir='/tigress/jdezoort/codalab/train_1'\n",
    "event_plotter = EventPlotter(indir=indir)\n",
    "event_plotter.plot_ep_rv_uv(evtid=21289)"
   ]
  },
  {
   "cell_type": "code",
   "execution_count": null,
   "id": "9358b1b0",
   "metadata": {},
   "outputs": [],
   "source": [
    "! mkdir ~/data/gnn_tracking"
   ]
  },
  {
   "cell_type": "code",
   "execution_count": null,
   "id": "b620f2a4",
   "metadata": {},
   "outputs": [],
   "source": []
  },
  {
   "cell_type": "code",
   "execution_count": null,
   "id": "cde54fd2",
   "metadata": {},
   "outputs": [],
   "source": [
    "from pathlib import Path\n",
    "\n",
    "# build point clouds for each sector in the pixel layers only\n",
    "pc_builder = PointCloudBuilder(indir='/tigress/jdezoort/codalab/train_1', outdir=str(Path(\"~/data/gnn_tracking/point_clouds\").expanduser()),\n",
    "                               n_sectors=n_sectors, pixel_only=True, redo=False, measurement_mode=False, thld=0.9)\n",
    "pc_builder.process(n=10, verbose=False)"
   ]
  },
  {
   "cell_type": "code",
   "execution_count": null,
   "id": "b2020ca0",
   "metadata": {},
   "outputs": [],
   "source": [
    "# each point cloud is a PyG Data object \n",
    "point_cloud = pc_builder.data_list[0]\n",
    "good = ((point_cloud.sector>-1) & (point_cloud.particle_id>0) &\n",
    "        (point_cloud.pt > 0.5))\n"
   ]
  },
  {
   "cell_type": "code",
   "execution_count": null,
   "id": "42d9808f",
   "metadata": {},
   "outputs": [],
   "source": [
    "point_cloud"
   ]
  },
  {
   "cell_type": "code",
   "execution_count": null,
   "id": "11dc520f",
   "metadata": {},
   "outputs": [],
   "source": [
    "\n",
    "\n",
    "# visualize the secto\n",
    "# rs in each event and an overlapped ('extended') sector\n",
    "pc_plotter = PointCloudPlotter(str(Path(\"~/data/gnn_tracking/point_clouds\").expanduser()),\n",
    "                               n_sectors=pc_builder.n_sectors)\n",
    "pc_plotter.plot_ep_rv_uv_all_sectors(21289)\n",
    "# pc_plotter.plot_ep_rv_uv_with_boundary(21289, 18,\n",
    "#                                        pc_builder.sector_di,\n",
    "#                                        pc_builder.sector_ds)"
   ]
  },
  {
   "cell_type": "code",
   "execution_count": null,
   "id": "43c1b78e",
   "metadata": {},
   "outputs": [],
   "source": [
    "! mkdir /home/kl5675/data/gnn_tracking/graphs"
   ]
  },
  {
   "cell_type": "code",
   "execution_count": null,
   "id": "91897cef",
   "metadata": {},
   "outputs": [],
   "source": [
    "# we can build graphs on the point clouds using geometric cuts\n",
    "\n",
    "from gnn_tracking.graph_construction.graph_builder import GraphBuilder\n",
    "graph_builder = GraphBuilder(str(Path(\"~/data/gnn_tracking/point_clouds\").expanduser()), str(Path(\"~/data/gnn_tracking/graphs\").expanduser()), redo=False)\n",
    "graph_builder.process(verbose=True, n=None)"
   ]
  },
  {
   "cell_type": "code",
   "execution_count": null,
   "id": "9fea3434",
   "metadata": {},
   "outputs": [],
   "source": [
    "! ls  /home/kl5675/data/gnn_tracking/"
   ]
  },
  {
   "cell_type": "code",
   "execution_count": null,
   "id": "50222cfb",
   "metadata": {},
   "outputs": [],
   "source": [
    "\n",
    "\n",
    "# the graph plotter shows the true and false edges constructed by the builder\n",
    "\n",
    "graph_plotter = GraphPlotter()\n",
    "graph = graph_builder.data_list[0]\n",
    "print(graph)\n",
    "evtid, s = graph.evtid.item(), graph.s.item()\n",
    "\n",
    "# takes a minute to run, but cool visual!\n",
    "#graph_plotter.plot_rz(graph_builder.data_list[0], \n",
    "#          f'event{evtid}_s{s}')"
   ]
  },
  {
   "cell_type": "code",
   "execution_count": null,
   "id": "7c987bd8",
   "metadata": {},
   "outputs": [],
   "source": [
    "# use cuda (gpu) if possible, otherwise fallback to cpu\n",
    "use_cuda = torch.cuda.is_available()\n",
    "device = torch.device(\"cuda\" if use_cuda else \"cpu\")\n",
    "print(f'Utilizing {device}')\n",
    "\n",
    "# use reference graph to get relevant dimensions \n",
    "g = graph_builder.data_list[0]\n",
    "node_indim = g.x.shape[1]\n",
    "edge_indim = g.edge_attr.shape[1]\n",
    "hc_outdim = 2 # output dim of latent space  \n",
    "\n",
    "# partition graphs into train, test, val splits\n",
    "graphs = graph_builder.data_list\n",
    "n_graphs = len(graphs)\n",
    "rand_array = uniform(low=0, high=1, size=n_graphs)\n",
    "train_graphs = [g for i, g in enumerate(graphs) if (rand_array<=0.7)[i]]\n",
    "test_graphs = [g for i, g in enumerate(graphs) if ((rand_array>0.7) & (rand_array<=0.9))[i]]\n",
    "val_graphs = [g for i, g in enumerate(graphs) if (rand_array>0.9)[i]]\n",
    "\n",
    "# build graph loaders\n",
    "params = {'batch_size': 1, 'shuffle': True, 'num_workers': 2}\n",
    "train_loader = DataLoader(list(train_graphs), **params)\n",
    "params = {'batch_size': 1, 'shuffle': False, 'num_workers': 2}\n",
    "test_loader = DataLoader(list(test_graphs), **params)\n",
    "val_loader = DataLoader(list(val_graphs), **params)\n",
    "loaders = {'train': train_loader, 'test': test_loader,\n",
    "           'val': val_loader}\n",
    "print('Loader sizes:', [(k, len(v)) for k, v in loaders.items()])\n",
    "\n",
    "# set up a model and trainer\n",
    "model = GraphTCN(node_indim, edge_indim, hc_outdim, hidden_dim=64)\n",
    "trainer = GraphTCNTrainer(model=model, loaders=loaders)"
   ]
  },
  {
   "cell_type": "code",
   "execution_count": null,
   "id": "52626032",
   "metadata": {},
   "outputs": [],
   "source": [
    "import warnings\n",
    "warnings.filterwarnings('ignore')\n",
    "trainer.train()"
   ]
  },
  {
   "cell_type": "code",
   "execution_count": null,
   "id": "0df7d52c",
   "metadata": {},
   "outputs": [],
   "source": []
  },
  {
   "cell_type": "code",
   "execution_count": null,
   "id": "5aa9e9e2",
   "metadata": {},
   "outputs": [],
   "source": []
  },
  {
   "cell_type": "code",
   "execution_count": null,
   "id": "3368626e",
   "metadata": {},
   "outputs": [],
   "source": []
  },
  {
   "cell_type": "code",
   "execution_count": null,
   "id": "38e409cb",
   "metadata": {},
   "outputs": [],
   "source": []
  },
  {
   "cell_type": "code",
   "execution_count": null,
   "id": "538814f8",
   "metadata": {},
   "outputs": [],
   "source": []
  },
  {
   "cell_type": "code",
   "execution_count": null,
   "id": "3f642119",
   "metadata": {},
   "outputs": [],
   "source": []
  },
  {
   "cell_type": "code",
   "execution_count": null,
   "id": "60668cee",
   "metadata": {},
   "outputs": [],
   "source": []
  },
  {
   "cell_type": "code",
   "execution_count": null,
   "id": "b1439eb3",
   "metadata": {},
   "outputs": [],
   "source": []
  },
  {
   "cell_type": "code",
   "execution_count": null,
   "id": "3e5d0591",
   "metadata": {},
   "outputs": [],
   "source": []
  },
  {
   "cell_type": "code",
   "execution_count": null,
   "id": "d4fd55bf",
   "metadata": {},
   "outputs": [],
   "source": []
  }
 ],
 "metadata": {
  "kernelspec": {
   "display_name": "Python 3 (ipykernel)",
   "language": "python",
   "name": "python3"
  },
  "language_info": {
   "codemirror_mode": {
    "name": "ipython",
    "version": 3
   },
   "file_extension": ".py",
   "mimetype": "text/x-python",
   "name": "python",
   "nbconvert_exporter": "python",
   "pygments_lexer": "ipython3",
   "version": "3.9.12"
  }
 },
 "nbformat": 4,
 "nbformat_minor": 5
}
