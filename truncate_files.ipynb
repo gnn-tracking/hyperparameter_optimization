{
 "cells": [
  {
   "cell_type": "code",
   "execution_count": 56,
   "outputs": [],
   "source": [
    "from pathlib import Path\n",
    "from trackml.dataset import load_event"
   ],
   "metadata": {
    "collapsed": false,
    "pycharm": {
     "name": "#%%\n"
    }
   }
  },
  {
   "cell_type": "code",
   "execution_count": 57,
   "outputs": [],
   "source": [
    "indir=Path(\"/tigress\") / \"jdezoort\" / \"codalab\" / \"train_1\""
   ],
   "metadata": {
    "collapsed": false,
    "pycharm": {
     "name": "#%%\n"
    }
   }
  },
  {
   "cell_type": "code",
   "execution_count": 58,
   "outputs": [],
   "source": [
    "truncated_files = list(Path(indir).glob(\"event000021354*\"))"
   ],
   "metadata": {
    "collapsed": false,
    "pycharm": {
     "name": "#%%\n"
    }
   }
  },
  {
   "cell_type": "code",
   "execution_count": 66,
   "outputs": [
    {
     "data": {
      "text/plain": "[PosixPath('/tigress/jdezoort/codalab/train_1/event000021354-truth.csv.gz'),\n PosixPath('/tigress/jdezoort/codalab/train_1/event000021354.csv'),\n PosixPath('/tigress/jdezoort/codalab/train_1/event000021354-hits.csv.gz'),\n PosixPath('/tigress/jdezoort/codalab/train_1/event000021354-cells.csv.gz'),\n PosixPath('/tigress/jdezoort/codalab/train_1/event000021354-particles.csv.gz')]"
     },
     "execution_count": 66,
     "metadata": {},
     "output_type": "execute_result"
    }
   ],
   "source": [
    "truncated_files"
   ],
   "metadata": {
    "collapsed": false,
    "pycharm": {
     "name": "#%%\n"
    }
   }
  },
  {
   "cell_type": "code",
   "execution_count": 59,
   "outputs": [],
   "source": [
    "hits, cells, particles, truth = load_event(indir / \"event000021354\", )"
   ],
   "metadata": {
    "collapsed": false,
    "pycharm": {
     "name": "#%%\n"
    }
   }
  },
  {
   "cell_type": "code",
   "execution_count": 60,
   "outputs": [],
   "source": [
    "extracted_pids = particles[\"particle_id\"].sample(n=3).to_list()"
   ],
   "metadata": {
    "collapsed": false,
    "pycharm": {
     "name": "#%%\n"
    }
   }
  },
  {
   "cell_type": "code",
   "execution_count": 61,
   "outputs": [
    {
     "data": {
      "text/plain": "[783641728325255168, 662030244751872001, 414333502180294656]"
     },
     "execution_count": 61,
     "metadata": {},
     "output_type": "execute_result"
    }
   ],
   "source": [
    "extracted_pids"
   ],
   "metadata": {
    "collapsed": false,
    "pycharm": {
     "name": "#%%\n"
    }
   }
  },
  {
   "cell_type": "code",
   "execution_count": 62,
   "outputs": [],
   "source": [
    "f_noise = 0.15  # roughly the same as initial dataset"
   ],
   "metadata": {
    "collapsed": false,
    "pycharm": {
     "name": "#%%\n"
    }
   }
  },
  {
   "cell_type": "code",
   "execution_count": 63,
   "outputs": [],
   "source": [
    "extracted_hit_ids = truth[truth[\"particle_id\"].isin(extracted_pids)][\"hit_id\"].to_list()\n",
    "n_noise = int(f_noise / (1-f_noise) * len(extracted_hit_ids))\n",
    "extracted_hit_ids += truth[truth[\"particle_id\"] == 0].sample(n=n_noise)[\"hit_id\"].to_list()"
   ],
   "metadata": {
    "collapsed": false,
    "pycharm": {
     "name": "#%%\n"
    }
   }
  },
  {
   "cell_type": "code",
   "execution_count": 64,
   "outputs": [],
   "source": [
    "s_hits = hits[hits[\"hit_id\"].isin(extracted_hit_ids)].copy()\n",
    "s_cells = cells[cells[\"hit_id\"].isin(extracted_hit_ids)].copy()\n",
    "s_particles = particles[particles[\"particle_id\"].isin(extracted_pids + [0])].copy()\n",
    "s_truth = truth[truth[\"hit_id\"].isin(extracted_hit_ids)].copy()"
   ],
   "metadata": {
    "collapsed": false,
    "pycharm": {
     "name": "#%%\n"
    }
   }
  },
  {
   "cell_type": "code",
   "execution_count": 71,
   "outputs": [],
   "source": [
    "out_dir = Path(\".\") / \"test_data\"\n",
    "out_name = \"test_001\"\n",
    "out_dir.mkdir(parents=True, exist_ok=True)"
   ],
   "metadata": {
    "collapsed": false,
    "pycharm": {
     "name": "#%%\n"
    }
   }
  },
  {
   "cell_type": "code",
   "execution_count": 73,
   "outputs": [],
   "source": [
    "s_hits.to_csv(out_dir / f\"{out_name}-hits.csv.gz\", index=False, compression=\"gzip\")\n",
    "s_cells.to_csv(out_dir / f\"{out_name}-cells.csv.gz\", index=False, compression=\"gzip\")\n",
    "s_particles.to_csv(out_dir / f\"{out_name}-particles.csv.gz\", index=False, compression=\"gzip\")\n",
    "s_truth.to_csv(out_dir / f\"{out_name}-truth.csv.gz\", index=False, compression=\"gzip\")\n"
   ],
   "metadata": {
    "collapsed": false,
    "pycharm": {
     "name": "#%%\n"
    }
   }
  },
  {
   "cell_type": "code",
   "execution_count": 74,
   "outputs": [],
   "source": [
    "hits, cells, particles, truth = load_event(out_dir / \"test_001\", )"
   ],
   "metadata": {
    "collapsed": false,
    "pycharm": {
     "name": "#%%\n"
    }
   }
  },
  {
   "cell_type": "code",
   "execution_count": null,
   "outputs": [],
   "source": [],
   "metadata": {
    "collapsed": false,
    "pycharm": {
     "name": "#%%\n"
    }
   }
  }
 ],
 "metadata": {
  "kernelspec": {
   "display_name": "Python 3",
   "language": "python",
   "name": "python3"
  },
  "language_info": {
   "codemirror_mode": {
    "name": "ipython",
    "version": 2
   },
   "file_extension": ".py",
   "mimetype": "text/x-python",
   "name": "python",
   "nbconvert_exporter": "python",
   "pygments_lexer": "ipython2",
   "version": "2.7.6"
  }
 },
 "nbformat": 4,
 "nbformat_minor": 0
}