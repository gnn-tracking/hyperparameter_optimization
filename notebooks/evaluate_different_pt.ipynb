{
 "cells": [
  {
   "cell_type": "code",
   "execution_count": 1,
   "id": "c3b2fea2",
   "metadata": {},
   "outputs": [],
   "source": [
    "from gnn_tracking.training.tcn_trainer import TCNTrainer"
   ]
  },
  {
   "cell_type": "code",
   "execution_count": null,
   "id": "5f4025fc",
   "metadata": {},
   "outputs": [],
   "source": [
    "trainer = TCNTrainer()"
   ]
  }
 ],
 "metadata": {
  "kernelspec": {
   "display_name": "Python 3 (ipykernel)",
   "language": "python",
   "name": "python3"
  },
  "language_info": {
   "codemirror_mode": {
    "name": "ipython",
    "version": 3
   },
   "file_extension": ".py",
   "mimetype": "text/x-python",
   "name": "python",
   "nbconvert_exporter": "python",
   "pygments_lexer": "ipython3",
   "version": "3.9.0"
  }
 },
 "nbformat": 4,
 "nbformat_minor": 5
}
