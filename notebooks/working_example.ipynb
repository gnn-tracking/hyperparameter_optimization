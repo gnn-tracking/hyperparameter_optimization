{
 "cells": [
  {
   "cell_type": "raw",
   "id": "1a72a8c6",
   "metadata": {
    "pycharm": {
     "name": "#%% raw\n"
    }
   },
   "source": []
  },
  {
   "cell_type": "code",
   "execution_count": 45,
   "id": "b0531c62",
   "metadata": {
    "pycharm": {
     "name": "#%%\n"
    }
   },
   "outputs": [
    {
     "name": "stdout",
     "output_type": "stream",
     "text": [
      "The autoreload extension is already loaded. To reload it, use:\n",
      "  %reload_ext autoreload\n"
     ]
    }
   ],
   "source": [
    "import numpy as np\n",
    "from sklearn import metrics\n",
    "\n",
    "import torch\n",
    "from numpy.random import uniform\n",
    "from torch_geometric.loader import DataLoader\n",
    "from gnn_tracking.preprocessing.point_cloud_builder import PointCloudBuilder\n",
    "from gnn_tracking.utils.plotting import GraphPlotter\n",
    "from gnn_tracking.utils.plotting import PointCloudPlotter\n",
    "from gnn_tracking.models.track_condensation_networks import GraphTCN\n",
    "from pathlib import Path\n",
    "from gnn_tracking.postprocessing.dbscanscanner import DBSCANHyperParamScanner\n",
    "\n",
    "%load_ext autoreload\n",
    "%autoreload 2"
   ]
  },
  {
   "cell_type": "code",
   "execution_count": 46,
   "id": "8fb9c650",
   "metadata": {
    "pycharm": {
     "name": "#%%\n"
    }
   },
   "outputs": [],
   "source": [
    "from gnn_tracking.utils.plotting import EventPlotter\n",
    "\n",
    "# we'll use n_evts * n_sectors = 640 graphs\n",
    "n_evts, n_sectors = 10, 64\n",
    "indir = \"/tigress/jdezoort/codalab/train_1\"\n",
    "# indir='/home/kl5675/Documents/22/git_sync/gnn_tracking/src/gnn_tracking/test_data'\n",
    "# event_plotter = EventPlotter(indir=indir)\n",
    "# event_plotter.plot_ep_rv_uv(evtid=21289)"
   ]
  },
  {
   "cell_type": "code",
   "execution_count": 47,
   "id": "cde54fd2",
   "metadata": {
    "pycharm": {
     "name": "#%%\n"
    }
   },
   "outputs": [],
   "source": [
    "# build point clouds for each sector in the pixel layers only\n",
    "# pc_builder = PointCloudBuilder(indir=indir, outdir=str(Path(\"~/data/gnn_tracking/point_clouds\").expanduser()),\n",
    "#                                n_sectors=n_sectors, pixel_only=True, redo=False, measurement_mode=False, thld=0.9)\n",
    "# pc_builder.process(n=10, verbose=False)"
   ]
  },
  {
   "cell_type": "code",
   "execution_count": 48,
   "id": "b2020ca0",
   "metadata": {
    "pycharm": {
     "name": "#%%\n"
    }
   },
   "outputs": [],
   "source": [
    "# each point cloud is a PyG Data object\n",
    "# point_cloud = pc_builder.data_list[0]\n",
    "# good = ((point_cloud.sector>-1) & (point_cloud.particle_id>0) &\n",
    "#         (point_cloud.pt > 0.5))"
   ]
  },
  {
   "cell_type": "code",
   "execution_count": 49,
   "id": "42d9808f",
   "metadata": {
    "pycharm": {
     "name": "#%%\n"
    }
   },
   "outputs": [],
   "source": [
    "# point_cloud"
   ]
  },
  {
   "cell_type": "code",
   "execution_count": 50,
   "id": "11dc520f",
   "metadata": {
    "pycharm": {
     "name": "#%%\n"
    }
   },
   "outputs": [],
   "source": [
    "# visualize the secto\n",
    "# rs in each event and an overlapped ('extended') sector\n",
    "# pc_plotter = PointCloudPlotter(str(Path(\"~/data/gnn_tracking/point_clouds\").expanduser()),\n",
    "#                                n_sectors=pc_builder.n_sectors)\n",
    "# pc_plotter.plot_ep_rv_uv_all_sectors(21289)\n",
    "# pc_plotter.plot_ep_rv_uv_with_boundary(21289, 18,\n",
    "#                                        pc_builder.sector_di,\n",
    "#                                        pc_builder.sector_ds)"
   ]
  },
  {
   "cell_type": "code",
   "execution_count": 51,
   "id": "43c1b78e",
   "metadata": {
    "pycharm": {
     "name": "#%%\n"
    }
   },
   "outputs": [
    {
     "name": "stdout",
     "output_type": "stream",
     "text": [
      "mkdir: cannot create directory '/home/kl5675/data/gnn_tracking/graphs': File exists\r\n"
     ]
    }
   ],
   "source": [
    "! mkdir /home/kl5675/data/gnn_tracking/graphs"
   ]
  },
  {
   "cell_type": "code",
   "execution_count": 52,
   "id": "91897cef",
   "metadata": {
    "pycharm": {
     "name": "#%%\n"
    }
   },
   "outputs": [],
   "source": [
    "# we can build graphs on the point clouds using geometric cuts\n",
    "\n",
    "from gnn_tracking.graph_construction.graph_builder import GraphBuilder\n",
    "\n",
    "graph_builder = GraphBuilder(\n",
    "    str(Path(\"~/data/gnn_tracking/point_clouds\").expanduser()),\n",
    "    str(Path(\"~/data/gnn_tracking/graphs\").expanduser()),\n",
    "    redo=False,\n",
    ")\n",
    "graph_builder.process(n=None)"
   ]
  },
  {
   "cell_type": "code",
   "execution_count": 53,
   "id": "9fea3434",
   "metadata": {
    "pycharm": {
     "name": "#%%\n"
    }
   },
   "outputs": [
    {
     "name": "stdout",
     "output_type": "stream",
     "text": [
      "graphs\tmodel.pt  point_clouds\r\n"
     ]
    }
   ],
   "source": [
    "! ls  /home/kl5675/data/gnn_tracking/"
   ]
  },
  {
   "cell_type": "code",
   "execution_count": 54,
   "id": "50222cfb",
   "metadata": {
    "pycharm": {
     "name": "#%%\n"
    }
   },
   "outputs": [],
   "source": [
    "# the graph plotter shows the true and false edges constructed by the builder\n",
    "\n",
    "# graph_plotter = GraphPlotter()\n",
    "# graph = graph_builder.data_list[0]\n",
    "# print(graph)\n",
    "# evtid, s = graph.evtid.item(), graph.s.item()\n",
    "\n",
    "# takes a minute to run, but cool visual!\n",
    "# graph_plotter.plot_rz(graph_builder.data_list[0],\n",
    "#          f'event{evtid}_s{s}')"
   ]
  },
  {
   "cell_type": "code",
   "execution_count": 55,
   "id": "7c987bd8",
   "metadata": {
    "pycharm": {
     "name": "#%%\n"
    }
   },
   "outputs": [
    {
     "name": "stdout",
     "output_type": "stream",
     "text": [
      "Utilizing cpu\n"
     ]
    }
   ],
   "source": [
    "from gnn_tracking.training.graph_tcn_trainer import GraphTCNTrainer\n",
    "\n",
    "# use cuda (gpu) if possible, otherwise fallback to cpu\n",
    "use_cuda = torch.cuda.is_available()\n",
    "device = torch.device(\"cuda\" if use_cuda else \"cpu\")\n",
    "print(f\"Utilizing {device}\")\n",
    "\n",
    "# use reference graph to get relevant dimensions\n",
    "g = graph_builder.data_list[0]\n",
    "node_indim = g.x.shape[1]\n",
    "edge_indim = g.edge_attr.shape[1]\n",
    "hc_outdim = 2  # output dim of latent space\n",
    "\n",
    "# partition graphs into train, test, val splits\n",
    "graphs = graph_builder.data_list\n",
    "n_graphs = len(graphs)\n",
    "rand_array = uniform(low=0, high=1, size=n_graphs)\n",
    "train_graphs = [g for i, g in enumerate(graphs) if (rand_array <= 0.7)[i]]\n",
    "test_graphs = [\n",
    "    g for i, g in enumerate(graphs) if ((rand_array > 0.7) & (rand_array <= 0.9))[i]\n",
    "]\n",
    "val_graphs = [g for i, g in enumerate(graphs) if (rand_array > 0.9)[i]]\n",
    "\n",
    "# build graph loaders\n",
    "params = {\"batch_size\": 1, \"shuffle\": True, \"num_workers\": 1}"
   ]
  },
  {
   "cell_type": "code",
   "execution_count": 56,
   "outputs": [],
   "source": [
    "train_loader = DataLoader(list(train_graphs), **params)"
   ],
   "metadata": {
    "collapsed": false,
    "pycharm": {
     "name": "#%%\n"
    }
   }
  },
  {
   "cell_type": "code",
   "execution_count": 57,
   "outputs": [
    {
     "name": "stdout",
     "output_type": "stream",
     "text": [
      "Loader sizes: [('train', 220), ('test', 34), ('val', 17)]\n"
     ]
    }
   ],
   "source": [
    "params = {\"batch_size\": 2, \"shuffle\": False, \"num_workers\": 2}\n",
    "test_loader = DataLoader(list(test_graphs), **params)\n",
    "val_loader = DataLoader(list(val_graphs), **params)\n",
    "loaders = {\"train\": train_loader, \"test\": test_loader, \"val\": val_loader}\n",
    "print(\"Loader sizes:\", [(k, len(v)) for k, v in loaders.items()])\n",
    "\n",
    "# set up a model and trainer"
   ],
   "metadata": {
    "collapsed": false,
    "pycharm": {
     "name": "#%%\n"
    }
   }
  },
  {
   "cell_type": "code",
   "execution_count": 58,
   "outputs": [],
   "source": [
    "torch.manual_seed(0)\n",
    "import numpy as np\n",
    "\n",
    "np.random.seed(0)\n",
    "import random\n",
    "\n",
    "random.seed(0)"
   ],
   "metadata": {
    "collapsed": false,
    "pycharm": {
     "name": "#%%\n"
    }
   }
  },
  {
   "cell_type": "code",
   "execution_count": 59,
   "outputs": [],
   "source": [
    "extra_metrics = {\n",
    "    \"homogeneity\": metrics.homogeneity_score,\n",
    "    \"completeness\": metrics.completeness_score,\n",
    "}"
   ],
   "metadata": {
    "collapsed": false,
    "pycharm": {
     "name": "#%%\n"
    }
   }
  },
  {
   "cell_type": "code",
   "execution_count": 60,
   "outputs": [],
   "source": [
    "def clustering(graphs, truth, sectors, epoch):\n",
    "    if epoch < 5:\n",
    "        return None\n",
    "    dbss = DBSCANHyperParamScanner(\n",
    "        graphs=graphs,\n",
    "        truth=truth,\n",
    "        sectors=sectors,\n",
    "        guiding_metric=metrics.v_measure_score,\n",
    "        extra_metrics=extra_metrics,\n",
    "    )\n",
    "    return dbss.scan(n_jobs=1, n_trials=100)"
   ],
   "metadata": {
    "collapsed": false,
    "pycharm": {
     "name": "#%%\n"
    }
   }
  },
  {
   "cell_type": "code",
   "execution_count": 60,
   "outputs": [],
   "source": [],
   "metadata": {
    "collapsed": false,
    "pycharm": {
     "name": "#%%\n"
    }
   }
  },
  {
   "cell_type": "code",
   "execution_count": 61,
   "outputs": [
    {
     "name": "stdout",
     "output_type": "stream",
     "text": [
      "number trainable params: 85046\n"
     ]
    }
   ],
   "source": [
    "from gnn_tracking.training.tcn_trainer import TCNTrainer\n",
    "from gnn_tracking.utils.losses import EdgeWeightBCELoss, PotentialLoss, BackgroundLoss\n",
    "import optuna\n",
    "\n",
    "optuna.logging.set_verbosity(optuna.logging.WARNING)\n",
    "\n",
    "q_min, sb = 0.01, 0.1\n",
    "loss_functions = {\n",
    "    \"edge\": EdgeWeightBCELoss().to(device),\n",
    "    \"potential\": PotentialLoss(q_min=q_min, device=device),\n",
    "    \"background\": BackgroundLoss(device=device, sb=sb),\n",
    "    # \"object\": ObjectLoss(device=device, mode='efficiency')\n",
    "}\n",
    "\n",
    "loss_weights = {\n",
    "    # everything that's not mentioned here will be 1\n",
    "    \"edge\": 5,\n",
    "    \"potential_attractive\": 10,\n",
    "    \"potential_repulsive\": 1,\n",
    "    \"background\": 1,\n",
    "    # \"object\": 1/250000,\n",
    "}\n",
    "\n",
    "# set up a model and trainer\n",
    "model = GraphTCN(node_indim, edge_indim, hc_outdim, hidden_dim=64)\n",
    "model_parameters = filter(lambda p: p.requires_grad, model.parameters())\n",
    "n_params = sum([np.prod(p.size()) for p in model_parameters])\n",
    "print(\"number trainable params:\", n_params)"
   ],
   "metadata": {
    "collapsed": false,
    "pycharm": {
     "name": "#%%\n"
    }
   }
  },
  {
   "cell_type": "code",
   "execution_count": 62,
   "outputs": [
    {
     "data": {
      "text/plain": "<All keys matched successfully>"
     },
     "execution_count": 62,
     "metadata": {},
     "output_type": "execute_result"
    }
   ],
   "source": [
    "checkpoint = torch.load(Path(\"~/data/gnn_tracking/model.pt\").expanduser())\n",
    "model.load_state_dict(checkpoint[\"model_state_dict\"])"
   ],
   "metadata": {
    "collapsed": false,
    "pycharm": {
     "name": "#%%\n"
    }
   }
  },
  {
   "cell_type": "code",
   "execution_count": 63,
   "outputs": [
    {
     "name": "stdout",
     "output_type": "stream",
     "text": [
      "{'edge': EdgeWeightBCELoss(), 'potential': PotentialLoss(), 'background': BackgroundLoss()}\n"
     ]
    }
   ],
   "source": [
    "test_fcts = {\"dbscan\": clustering}\n",
    "\n",
    "trainer = TCNTrainer(\n",
    "    model=model,\n",
    "    loaders=loaders,\n",
    "    loss_functions=loss_functions,\n",
    "    lr=0.0001,\n",
    "    loss_weights=loss_weights,\n",
    "    device=device,\n",
    "    cluster_functions=test_fcts,\n",
    ")\n",
    "print(trainer.loss_functions)"
   ],
   "metadata": {
    "collapsed": false,
    "pycharm": {
     "name": "#%%\n"
    }
   }
  },
  {
   "cell_type": "code",
   "execution_count": 64,
   "outputs": [],
   "source": [
    "trainer.optimizer.load_state_dict(checkpoint[\"optimizer_state_dict\"])\n",
    "trainer._epoch = checkpoint[\"epoch\"]"
   ],
   "metadata": {
    "collapsed": false,
    "pycharm": {
     "name": "#%%\n"
    }
   }
  },
  {
   "cell_type": "code",
   "execution_count": 65,
   "outputs": [],
   "source": [
    "ns = [4558, 4265, 4532, 4596, 4314, 4222, 4888, 4640, 4797, 4565, 4883]"
   ],
   "metadata": {
    "collapsed": false,
    "pycharm": {
     "name": "#%%\n"
    }
   }
  },
  {
   "cell_type": "code",
   "execution_count": 66,
   "outputs": [
    {
     "name": "stderr",
     "output_type": "stream",
     "text": [
      "\u001b[32mINFO: Starting hyperparameter scan for clustering\u001b[0m\n"
     ]
    },
    {
     "name": "stdout",
     "output_type": "stream",
     "text": [
      "[5425, 5060, 4731, 4475, 4276, 4570, 4368, 4388, 4801, 4488, 4816]\n",
      "[5425, 5060, 4731, 4475, 4276, 4570, 4368, 4388, 4801, 4488, 4816]\n",
      "[5425, 5060, 4731, 4475, 4276, 4570, 4368, 4388, 4801, 4488, 4816]\n",
      "(5425, 2)\n",
      "(1776, 2)\n",
      "(1666, 2)\n",
      "(1554, 2)\n",
      "(1502, 2)\n",
      "(1604, 2)\n",
      "(1456, 2)\n",
      "(1370, 2)\n",
      "(1538, 2)\n",
      "(1552, 2)\n",
      "(1413, 2)\n",
      "(1650, 2)\n",
      "(1776, 2)\n",
      "(1666, 2)\n",
      "(1554, 2)\n",
      "(1502, 2)\n",
      "(1604, 2)\n",
      "(1456, 2)\n",
      "(1370, 2)\n",
      "(1538, 2)\n",
      "(1552, 2)\n",
      "(1413, 2)\n",
      "(1650, 2)\n",
      "(1776, 2)\n",
      "(1666, 2)\n",
      "(1554, 2)\n",
      "(1502, 2)\n",
      "(1604, 2)\n",
      "(1456, 2)\n",
      "(1370, 2)\n",
      "(1538, 2)\n",
      "(1552, 2)\n",
      "(1413, 2)\n",
      "(1650, 2)\n",
      "(1776, 2)\n",
      "(1666, 2)\n",
      "(1554, 2)\n",
      "(1502, 2)\n",
      "(1604, 2)\n",
      "(1456, 2)\n",
      "(1370, 2)\n",
      "(1538, 2)\n",
      "(1552, 2)\n",
      "(1413, 2)\n",
      "(1650, 2)\n",
      "(1776, 2)\n",
      "(1666, 2)\n",
      "(1554, 2)\n",
      "(1502, 2)\n",
      "(1604, 2)\n",
      "(1456, 2)\n",
      "(1370, 2)\n",
      "(1538, 2)\n",
      "(1552, 2)\n",
      "(1413, 2)\n",
      "(1650, 2)\n",
      "(1776, 2)\n",
      "(1666, 2)\n",
      "(1554, 2)\n",
      "(1776, 2)\n",
      "(1666, 2)\n",
      "(1554, 2)\n",
      "(1502, 2)\n",
      "(1604, 2)\n",
      "(1456, 2)\n",
      "(1370, 2)\n",
      "(1538, 2)\n",
      "(1552, 2)\n",
      "(1413, 2)\n",
      "(1650, 2)\n",
      "(1776, 2)\n",
      "(1666, 2)\n",
      "(1554, 2)\n",
      "(1776, 2)\n",
      "(1666, 2)\n",
      "(1554, 2)\n",
      "(1502, 2)\n",
      "(1604, 2)\n",
      "(1456, 2)\n",
      "(1370, 2)\n",
      "(1538, 2)\n",
      "(1552, 2)\n",
      "(1413, 2)\n",
      "(1650, 2)\n",
      "(1776, 2)\n",
      "(1666, 2)\n",
      "(1554, 2)\n",
      "(1776, 2)\n",
      "(1666, 2)\n",
      "(1554, 2)\n",
      "(1502, 2)\n",
      "(1604, 2)\n",
      "(1456, 2)\n",
      "(1370, 2)\n",
      "(1538, 2)\n",
      "(1552, 2)\n",
      "(1413, 2)\n",
      "(1650, 2)\n",
      "(1776, 2)\n",
      "(1666, 2)\n",
      "(1554, 2)\n",
      "(1502, 2)\n",
      "(1604, 2)\n",
      "(1456, 2)\n",
      "(1370, 2)\n",
      "(1538, 2)\n",
      "(1552, 2)\n",
      "(1413, 2)\n",
      "(1650, 2)\n",
      "(1776, 2)\n",
      "(1666, 2)\n",
      "(1554, 2)\n",
      "(1502, 2)\n",
      "(1604, 2)\n",
      "(1456, 2)\n",
      "(1370, 2)\n",
      "(1538, 2)\n",
      "(1552, 2)\n",
      "(1413, 2)\n",
      "(1650, 2)\n",
      "(1776, 2)\n",
      "(1666, 2)\n",
      "(1554, 2)\n",
      "(1502, 2)\n",
      "(1604, 2)\n",
      "(1456, 2)\n",
      "(1370, 2)\n",
      "(1538, 2)\n",
      "(1552, 2)\n",
      "(1413, 2)\n",
      "(1650, 2)\n",
      "(1776, 2)\n",
      "(1666, 2)\n",
      "(1554, 2)\n",
      "(1776, 2)\n",
      "(1666, 2)\n",
      "(1554, 2)\n",
      "(1776, 2)\n",
      "(1666, 2)\n",
      "(1554, 2)\n",
      "(1776, 2)\n",
      "(1666, 2)\n",
      "(1554, 2)\n",
      "(1776, 2)\n",
      "(1666, 2)\n",
      "(1554, 2)\n",
      "(1502, 2)\n",
      "(1604, 2)\n",
      "(1456, 2)\n",
      "(1370, 2)\n",
      "(1538, 2)\n",
      "(1552, 2)\n",
      "(1413, 2)\n",
      "(1650, 2)\n",
      "(1776, 2)\n",
      "(1666, 2)\n",
      "(1554, 2)\n",
      "(1776, 2)\n",
      "(1666, 2)\n",
      "(1554, 2)\n",
      "(1502, 2)\n",
      "(1604, 2)\n",
      "(1456, 2)\n",
      "(1370, 2)\n",
      "(1538, 2)\n",
      "(1552, 2)\n",
      "(1413, 2)\n",
      "(1650, 2)\n",
      "(1776, 2)\n",
      "(1666, 2)\n",
      "(1554, 2)\n",
      "(1502, 2)\n",
      "(1604, 2)\n",
      "(1456, 2)\n",
      "(1370, 2)\n",
      "(1538, 2)\n",
      "(1552, 2)\n",
      "(1413, 2)\n",
      "(1650, 2)\n",
      "(1776, 2)\n",
      "(1666, 2)\n",
      "(1554, 2)\n",
      "(1502, 2)\n",
      "(1604, 2)\n",
      "(1456, 2)\n",
      "(1370, 2)\n",
      "(1538, 2)\n",
      "(1552, 2)\n",
      "(1413, 2)\n",
      "(1650, 2)\n",
      "(1776, 2)\n",
      "(1666, 2)\n",
      "(1554, 2)\n",
      "(1776, 2)\n",
      "(1666, 2)\n",
      "(1554, 2)\n",
      "(1502, 2)\n",
      "(1604, 2)\n",
      "(1456, 2)\n",
      "(1370, 2)\n",
      "(1538, 2)\n",
      "(1552, 2)\n",
      "(1413, 2)\n",
      "(1650, 2)\n",
      "(1776, 2)\n",
      "(1666, 2)\n",
      "(1554, 2)\n",
      "(1776, 2)\n",
      "(1666, 2)\n",
      "(1554, 2)\n",
      "(1776, 2)\n",
      "(1666, 2)\n",
      "(1554, 2)\n",
      "(1776, 2)\n",
      "(1666, 2)\n",
      "(1554, 2)\n",
      "(1776, 2)\n",
      "(1666, 2)\n",
      "(1554, 2)\n",
      "(1776, 2)\n",
      "(1666, 2)\n",
      "(1554, 2)\n",
      "(1502, 2)\n",
      "(1604, 2)\n",
      "(1456, 2)\n",
      "(1370, 2)\n",
      "(1538, 2)\n",
      "(1552, 2)\n",
      "(1413, 2)\n",
      "(1650, 2)\n",
      "(1776, 2)\n",
      "(1666, 2)\n",
      "(1554, 2)\n",
      "(1502, 2)\n",
      "(1604, 2)\n",
      "(1456, 2)\n",
      "(1370, 2)\n",
      "(1538, 2)\n",
      "(1552, 2)\n",
      "(1413, 2)\n",
      "(1650, 2)\n",
      "(1776, 2)\n",
      "(1666, 2)\n",
      "(1554, 2)\n",
      "(1776, 2)\n",
      "(1666, 2)\n",
      "(1554, 2)\n",
      "(1502, 2)\n",
      "(1604, 2)\n",
      "(1456, 2)\n",
      "(1370, 2)\n",
      "(1538, 2)\n",
      "(1552, 2)\n",
      "(1413, 2)\n",
      "(1650, 2)\n",
      "(1776, 2)\n",
      "(1666, 2)\n",
      "(1554, 2)\n",
      "(1776, 2)\n",
      "(1666, 2)\n",
      "(1554, 2)\n",
      "(1776, 2)\n",
      "(1666, 2)\n",
      "(1554, 2)\n",
      "(1776, 2)\n",
      "(1666, 2)\n",
      "(1554, 2)\n",
      "(1776, 2)\n",
      "(1666, 2)\n",
      "(1554, 2)\n",
      "(1776, 2)\n",
      "(1666, 2)\n",
      "(1554, 2)\n",
      "(1776, 2)\n",
      "(1666, 2)\n",
      "(1554, 2)\n",
      "(1776, 2)\n",
      "(1666, 2)\n",
      "(1554, 2)\n",
      "(1502, 2)\n",
      "(1604, 2)\n",
      "(1456, 2)\n",
      "(1370, 2)\n",
      "(1538, 2)\n",
      "(1552, 2)\n",
      "(1413, 2)\n",
      "(1650, 2)\n",
      "(1776, 2)\n",
      "(1666, 2)\n",
      "(1554, 2)\n",
      "(1502, 2)\n",
      "(1604, 2)\n",
      "(1456, 2)\n",
      "(1370, 2)\n",
      "(1538, 2)\n",
      "(1552, 2)\n",
      "(1413, 2)\n",
      "(1650, 2)\n",
      "(1776, 2)\n",
      "(1666, 2)\n",
      "(1554, 2)\n",
      "(1776, 2)\n",
      "(1666, 2)\n",
      "(1554, 2)\n",
      "(1776, 2)\n",
      "(1666, 2)\n",
      "(1554, 2)\n",
      "(1776, 2)\n",
      "(1666, 2)\n",
      "(1554, 2)\n",
      "(1776, 2)\n",
      "(1666, 2)\n",
      "(1554, 2)\n",
      "(1502, 2)\n",
      "(1604, 2)\n",
      "(1456, 2)\n",
      "(1370, 2)\n",
      "(1538, 2)\n",
      "(1552, 2)\n",
      "(1413, 2)\n",
      "(1650, 2)\n",
      "(1776, 2)\n",
      "(1666, 2)\n",
      "(1554, 2)\n",
      "(1776, 2)\n",
      "(1666, 2)\n",
      "(1554, 2)\n",
      "(1776, 2)\n",
      "(1666, 2)\n",
      "(1554, 2)\n",
      "(1776, 2)\n",
      "(1666, 2)\n",
      "(1554, 2)\n",
      "(1776, 2)\n",
      "(1666, 2)\n",
      "(1554, 2)\n",
      "(1502, 2)\n",
      "(1604, 2)\n",
      "(1456, 2)\n",
      "(1370, 2)\n",
      "(1538, 2)\n",
      "(1552, 2)\n",
      "(1413, 2)\n",
      "(1650, 2)\n",
      "(1776, 2)\n",
      "(1666, 2)\n",
      "(1554, 2)\n",
      "(1776, 2)\n",
      "(1666, 2)\n",
      "(1554, 2)\n",
      "(1776, 2)\n",
      "(1666, 2)\n",
      "(1554, 2)\n",
      "(1776, 2)\n",
      "(1666, 2)\n",
      "(1554, 2)\n",
      "(1502, 2)\n",
      "(1604, 2)\n",
      "(1456, 2)\n",
      "(1370, 2)\n",
      "(1538, 2)\n",
      "(1552, 2)\n",
      "(1413, 2)\n",
      "(1650, 2)\n",
      "(1776, 2)\n",
      "(1666, 2)\n",
      "(1554, 2)\n",
      "(1776, 2)\n",
      "(1666, 2)\n",
      "(1554, 2)\n",
      "(1776, 2)\n",
      "(1666, 2)\n",
      "(1554, 2)\n",
      "(1776, 2)\n",
      "(1666, 2)\n",
      "(1554, 2)\n",
      "(1776, 2)\n",
      "(1666, 2)\n",
      "(1554, 2)\n",
      "(1502, 2)\n",
      "(1604, 2)\n",
      "(1456, 2)\n",
      "(1370, 2)\n",
      "(1538, 2)\n",
      "(1552, 2)\n",
      "(1413, 2)\n",
      "(1650, 2)\n",
      "(1776, 2)\n",
      "(1666, 2)\n",
      "(1554, 2)\n",
      "(1502, 2)\n",
      "(1604, 2)\n",
      "(1456, 2)\n",
      "(1370, 2)\n",
      "(1538, 2)\n",
      "(1552, 2)\n",
      "(1413, 2)\n",
      "(1650, 2)\n",
      "(1776, 2)\n",
      "(1666, 2)\n",
      "(1554, 2)\n",
      "(1776, 2)\n",
      "(1666, 2)\n",
      "(1554, 2)\n",
      "(1776, 2)\n",
      "(1666, 2)\n",
      "(1554, 2)\n",
      "(1776, 2)\n",
      "(1666, 2)\n",
      "(1554, 2)\n",
      "(1776, 2)\n",
      "(1666, 2)\n",
      "(1554, 2)\n",
      "(1776, 2)\n",
      "(1666, 2)\n",
      "(1554, 2)\n",
      "(1776, 2)\n",
      "(1666, 2)\n",
      "(1554, 2)\n",
      "(1776, 2)\n",
      "(1666, 2)\n",
      "(1554, 2)\n",
      "(1776, 2)\n",
      "(1666, 2)\n",
      "(1554, 2)\n",
      "(1502, 2)\n",
      "(1604, 2)\n",
      "(1456, 2)\n",
      "(1370, 2)\n",
      "(1538, 2)\n",
      "(1552, 2)\n",
      "(1413, 2)\n",
      "(1650, 2)\n",
      "(1776, 2)\n",
      "(1666, 2)\n",
      "(1554, 2)\n",
      "(1776, 2)\n",
      "(1666, 2)\n",
      "(1554, 2)\n",
      "(1776, 2)\n",
      "(1666, 2)\n",
      "(1554, 2)\n",
      "(1776, 2)\n",
      "(1666, 2)\n",
      "(1554, 2)\n",
      "(1502, 2)\n",
      "(1604, 2)\n",
      "(1456, 2)\n",
      "(1370, 2)\n",
      "(1538, 2)\n",
      "(1552, 2)\n",
      "(1413, 2)\n",
      "(1650, 2)\n",
      "(1776, 2)\n",
      "(1666, 2)\n",
      "(1554, 2)\n",
      "(1776, 2)\n",
      "(1666, 2)\n",
      "(1554, 2)\n",
      "(1776, 2)\n",
      "(1666, 2)\n",
      "(1554, 2)\n",
      "(1776, 2)\n",
      "(1666, 2)\n",
      "(1554, 2)\n",
      "(1776, 2)\n",
      "(1666, 2)\n",
      "(1554, 2)\n",
      "(1776, 2)\n",
      "(1666, 2)\n",
      "(1554, 2)\n",
      "(1502, 2)\n",
      "(1604, 2)\n",
      "(1456, 2)\n",
      "(1370, 2)\n",
      "(1538, 2)\n",
      "(1552, 2)\n",
      "(1413, 2)\n",
      "(1650, 2)\n",
      "(1776, 2)\n",
      "(1666, 2)\n",
      "(1554, 2)\n",
      "(1776, 2)\n",
      "(1666, 2)\n",
      "(1554, 2)\n",
      "(1502, 2)\n",
      "(1604, 2)\n",
      "(1456, 2)\n",
      "(1370, 2)\n",
      "(1538, 2)\n",
      "(1552, 2)\n",
      "(1413, 2)\n",
      "(1650, 2)\n",
      "(1776, 2)\n",
      "(1666, 2)\n",
      "(1554, 2)\n",
      "(1776, 2)\n",
      "(1666, 2)\n",
      "(1554, 2)\n",
      "(1776, 2)\n",
      "(1666, 2)\n",
      "(1554, 2)\n",
      "(1776, 2)\n",
      "(1666, 2)\n",
      "(1554, 2)\n",
      "(1776, 2)\n",
      "(1666, 2)\n",
      "(1554, 2)\n",
      "(1776, 2)\n",
      "(1666, 2)\n",
      "(1554, 2)\n",
      "(1776, 2)\n",
      "(1666, 2)\n",
      "(1554, 2)\n",
      "(1776, 2)\n",
      "(1666, 2)\n",
      "(1554, 2)\n",
      "(1502, 2)\n",
      "(1604, 2)\n",
      "(1456, 2)\n",
      "(1370, 2)\n",
      "(1538, 2)\n",
      "(1552, 2)\n",
      "(1413, 2)\n",
      "(1650, 2)\n",
      "(1776, 2)\n",
      "(1666, 2)\n",
      "(1554, 2)\n",
      "(1776, 2)\n",
      "(1666, 2)\n",
      "(1554, 2)\n",
      "(1776, 2)\n",
      "(1666, 2)\n",
      "(1554, 2)\n",
      "(1502, 2)\n",
      "(1604, 2)\n",
      "(1456, 2)\n",
      "(1370, 2)\n",
      "(1538, 2)\n",
      "(1552, 2)\n",
      "(1413, 2)\n",
      "(1650, 2)\n"
     ]
    },
    {
     "name": "stderr",
     "output_type": "stream",
     "text": [
      "\u001b[32mINFO: Clustering hyperparameter scan took 5.28 seconds\u001b[0m\n"
     ]
    },
    {
     "name": "stdout",
     "output_type": "stream",
     "text": [
      "(1776, 2)\n",
      "(1666, 2)\n",
      "(1554, 2)\n",
      "(1776, 2)\n",
      "(1666, 2)\n",
      "(1554, 2)\n",
      "(1776, 2)\n",
      "(1666, 2)\n",
      "(1554, 2)\n",
      "(1776, 2)\n",
      "(1666, 2)\n",
      "(1554, 2)\n",
      "(1776, 2)\n",
      "(1666, 2)\n",
      "(1554, 2)\n",
      "(1776, 2)\n"
     ]
    },
    {
     "ename": "AssertionError",
     "evalue": "(0, 5425, 1776)",
     "output_type": "error",
     "traceback": [
      "\u001b[0;31m---------------------------------------------------------------------------\u001b[0m",
      "\u001b[0;31mAssertionError\u001b[0m                            Traceback (most recent call last)",
      "Input \u001b[0;32mIn [66]\u001b[0m, in \u001b[0;36m<cell line: 3>\u001b[0;34m()\u001b[0m\n\u001b[1;32m      1\u001b[0m \u001b[38;5;28;01mimport\u001b[39;00m \u001b[38;5;21;01mwarnings\u001b[39;00m\n\u001b[1;32m      2\u001b[0m warnings\u001b[38;5;241m.\u001b[39mfilterwarnings(\u001b[38;5;124m'\u001b[39m\u001b[38;5;124mignore\u001b[39m\u001b[38;5;124m'\u001b[39m)\n\u001b[0;32m----> 3\u001b[0m \u001b[43mtrainer\u001b[49m\u001b[38;5;241;43m.\u001b[39;49m\u001b[43mtest_step\u001b[49m\u001b[43m(\u001b[49m\u001b[43m)\u001b[49m\n",
      "File \u001b[0;32m~/Documents/22/git_sync/gnn_tracking/src/gnn_tracking/training/tcn_trainer.py:304\u001b[0m, in \u001b[0;36mTCNTrainer.test_step\u001b[0;34m(self, thld, val)\u001b[0m\n\u001b[1;32m    302\u001b[0m losses \u001b[38;5;241m=\u001b[39m {k: np\u001b[38;5;241m.\u001b[39mnanmean(v) \u001b[38;5;28;01mfor\u001b[39;00m k, v \u001b[38;5;129;01min\u001b[39;00m losses\u001b[38;5;241m.\u001b[39mitems()}\n\u001b[1;32m    303\u001b[0m \u001b[38;5;28;01mfor\u001b[39;00m k, f \u001b[38;5;129;01min\u001b[39;00m \u001b[38;5;28mself\u001b[39m\u001b[38;5;241m.\u001b[39mclustering_functions\u001b[38;5;241m.\u001b[39mitems():\n\u001b[0;32m--> 304\u001b[0m     losses[k] \u001b[38;5;241m=\u001b[39m \u001b[43mf\u001b[49m\u001b[43m(\u001b[49m\u001b[43mgraphs\u001b[49m\u001b[43m,\u001b[49m\u001b[43m \u001b[49m\u001b[43mtruths\u001b[49m\u001b[43m,\u001b[49m\u001b[43m \u001b[49m\u001b[43msectors\u001b[49m\u001b[43m,\u001b[49m\u001b[43m \u001b[49m\u001b[43mepoch\u001b[49m\u001b[38;5;241;43m=\u001b[39;49m\u001b[38;5;28;43mself\u001b[39;49m\u001b[38;5;241;43m.\u001b[39;49m\u001b[43m_epoch\u001b[49m\u001b[43m)\u001b[49m\n\u001b[1;32m    305\u001b[0m \u001b[38;5;28mself\u001b[39m\u001b[38;5;241m.\u001b[39m_log_losses(losses[\u001b[38;5;124m\"\u001b[39m\u001b[38;5;124mtotal\u001b[39m\u001b[38;5;124m\"\u001b[39m], losses, header\u001b[38;5;241m=\u001b[39m\u001b[38;5;124mf\u001b[39m\u001b[38;5;124m\"\u001b[39m\u001b[38;5;124mTest \u001b[39m\u001b[38;5;132;01m{\u001b[39;00m\u001b[38;5;28mself\u001b[39m\u001b[38;5;241m.\u001b[39m_epoch\u001b[38;5;132;01m}\u001b[39;00m\u001b[38;5;124m: \u001b[39m\u001b[38;5;124m\"\u001b[39m)\n\u001b[1;32m    306\u001b[0m \u001b[38;5;28mself\u001b[39m\u001b[38;5;241m.\u001b[39mtest_loss\u001b[38;5;241m.\u001b[39mappend(pd\u001b[38;5;241m.\u001b[39mDataFrame(losses, index\u001b[38;5;241m=\u001b[39m[\u001b[38;5;28mself\u001b[39m\u001b[38;5;241m.\u001b[39m_epoch]))\n",
      "Input \u001b[0;32mIn [60]\u001b[0m, in \u001b[0;36mclustering\u001b[0;34m(graphs, truth, sectors, epoch)\u001b[0m\n\u001b[1;32m      7\u001b[0m \u001b[38;5;28mprint\u001b[39m(graphs[\u001b[38;5;241m0\u001b[39m]\u001b[38;5;241m.\u001b[39mshape)\n\u001b[1;32m      8\u001b[0m dbss \u001b[38;5;241m=\u001b[39m DBSCANHyperParamScanner(\n\u001b[1;32m      9\u001b[0m     graphs\u001b[38;5;241m=\u001b[39mgraphs,\n\u001b[1;32m     10\u001b[0m     truth\u001b[38;5;241m=\u001b[39mtruth,\n\u001b[0;32m   (...)\u001b[0m\n\u001b[1;32m     13\u001b[0m     extra_metrics\u001b[38;5;241m=\u001b[39mextra_metrics,\n\u001b[1;32m     14\u001b[0m )\n\u001b[0;32m---> 15\u001b[0m study \u001b[38;5;241m=\u001b[39m \u001b[43mdbss\u001b[49m\u001b[38;5;241;43m.\u001b[39;49m\u001b[43mscan\u001b[49m\u001b[43m(\u001b[49m\u001b[43mn_jobs\u001b[49m\u001b[38;5;241;43m=\u001b[39;49m\u001b[38;5;241;43m1\u001b[39;49m\u001b[43m,\u001b[49m\u001b[43m \u001b[49m\u001b[43mn_trials\u001b[49m\u001b[38;5;241;43m=\u001b[39;49m\u001b[38;5;241;43m100\u001b[39;49m\u001b[43m)\u001b[49m\n\u001b[1;32m     16\u001b[0m \u001b[38;5;28;01mreturn\u001b[39;00m study\u001b[38;5;241m.\u001b[39mbest_value\n",
      "File \u001b[0;32m~/Documents/22/git_sync/gnn_tracking/src/gnn_tracking/postprocessing/clusterscanner.py:40\u001b[0m, in \u001b[0;36mAbstractClusterHyperParamScanner.scan\u001b[0;34m(self, **kwargs)\u001b[0m\n\u001b[1;32m     38\u001b[0m logger\u001b[38;5;241m.\u001b[39minfo(\u001b[38;5;124m\"\u001b[39m\u001b[38;5;124mStarting hyperparameter scan for clustering\u001b[39m\u001b[38;5;124m\"\u001b[39m)\n\u001b[1;32m     39\u001b[0m \u001b[38;5;28;01mwith\u001b[39;00m timing(\u001b[38;5;124m\"\u001b[39m\u001b[38;5;124mClustering hyperparameter scan\u001b[39m\u001b[38;5;124m\"\u001b[39m):\n\u001b[0;32m---> 40\u001b[0m     \u001b[38;5;28;01mreturn\u001b[39;00m \u001b[38;5;28;43mself\u001b[39;49m\u001b[38;5;241;43m.\u001b[39;49m\u001b[43m_scan\u001b[49m\u001b[43m(\u001b[49m\u001b[38;5;241;43m*\u001b[39;49m\u001b[38;5;241;43m*\u001b[39;49m\u001b[43mkwargs\u001b[49m\u001b[43m)\u001b[49m\n",
      "File \u001b[0;32m~/Documents/22/git_sync/gnn_tracking/src/gnn_tracking/postprocessing/dbscanscanner.py:53\u001b[0m, in \u001b[0;36mDBSCANHyperParamScanner._scan\u001b[0;34m(self, **kwargs)\u001b[0m\n\u001b[1;32m     52\u001b[0m \u001b[38;5;28;01mdef\u001b[39;00m \u001b[38;5;21m_scan\u001b[39m(\u001b[38;5;28mself\u001b[39m, \u001b[38;5;241m*\u001b[39m\u001b[38;5;241m*\u001b[39mkwargs) \u001b[38;5;241m-\u001b[39m\u001b[38;5;241m>\u001b[39m ClusterScanResult:\n\u001b[0;32m---> 53\u001b[0m     \u001b[38;5;28;01mreturn\u001b[39;00m \u001b[38;5;28;43mself\u001b[39;49m\u001b[38;5;241;43m.\u001b[39;49m\u001b[43mchps\u001b[49m\u001b[38;5;241;43m.\u001b[39;49m\u001b[43m_scan\u001b[49m\u001b[43m(\u001b[49m\u001b[38;5;241;43m*\u001b[39;49m\u001b[38;5;241;43m*\u001b[39;49m\u001b[43mkwargs\u001b[49m\u001b[43m)\u001b[49m\n",
      "File \u001b[0;32m~/Documents/22/git_sync/gnn_tracking/src/gnn_tracking/postprocessing/clusterscanner.py:230\u001b[0m, in \u001b[0;36mClusterHyperParamScanner._scan\u001b[0;34m(self, **kwargs)\u001b[0m\n\u001b[1;32m    223\u001b[0m \u001b[38;5;28;01massert\u001b[39;00m \u001b[38;5;28mself\u001b[39m\u001b[38;5;241m.\u001b[39m_study \u001b[38;5;129;01mis\u001b[39;00m \u001b[38;5;129;01mnot\u001b[39;00m \u001b[38;5;28;01mNone\u001b[39;00m  \u001b[38;5;66;03m# for mypy\u001b[39;00m\n\u001b[1;32m    224\u001b[0m \u001b[38;5;28mself\u001b[39m\u001b[38;5;241m.\u001b[39m_study\u001b[38;5;241m.\u001b[39moptimize(\n\u001b[1;32m    225\u001b[0m     \u001b[38;5;28mself\u001b[39m\u001b[38;5;241m.\u001b[39m_objective,\n\u001b[1;32m    226\u001b[0m     \u001b[38;5;241m*\u001b[39m\u001b[38;5;241m*\u001b[39mkwargs,\n\u001b[1;32m    227\u001b[0m )\n\u001b[1;32m    228\u001b[0m \u001b[38;5;28;01mreturn\u001b[39;00m ClusterScanResult(\n\u001b[1;32m    229\u001b[0m     study\u001b[38;5;241m=\u001b[39m\u001b[38;5;28mself\u001b[39m\u001b[38;5;241m.\u001b[39m_study,\n\u001b[0;32m--> 230\u001b[0m     all_metrics\u001b[38;5;241m=\u001b[39m\u001b[38;5;28;43mself\u001b[39;49m\u001b[38;5;241;43m.\u001b[39;49m\u001b[43m_evaluate\u001b[49m\u001b[43m(\u001b[49m\u001b[43m)\u001b[49m\n\u001b[1;32m    231\u001b[0m )\n",
      "File \u001b[0;32m~/Documents/22/git_sync/gnn_tracking/src/gnn_tracking/postprocessing/clusterscanner.py:204\u001b[0m, in \u001b[0;36mClusterHyperParamScanner._evaluate\u001b[0;34m(self)\u001b[0m\n\u001b[1;32m    202\u001b[0m     \u001b[38;5;28;01mpass\u001b[39;00m\n\u001b[1;32m    203\u001b[0m \u001b[38;5;28;01mfor\u001b[39;00m sector \u001b[38;5;129;01min\u001b[39;00m available_sectors:\n\u001b[0;32m--> 204\u001b[0m     \u001b[38;5;28;01massert\u001b[39;00m \u001b[38;5;28mlen\u001b[39m(sectors) \u001b[38;5;241m==\u001b[39m \u001b[38;5;28mlen\u001b[39m(graph), (\u001b[38;5;28mlen\u001b[39m(sectors), \u001b[38;5;28mlen\u001b[39m(graph))\n\u001b[1;32m    205\u001b[0m     sector_mask \u001b[38;5;241m=\u001b[39m sectors \u001b[38;5;241m==\u001b[39m sector\n\u001b[1;32m    206\u001b[0m     graph \u001b[38;5;241m=\u001b[39m graph[sector_mask]\n",
      "\u001b[0;31mAssertionError\u001b[0m: (0, 5425, 1776)"
     ]
    }
   ],
   "source": [
    "import warnings\n",
    "\n",
    "warnings.filterwarnings(\"ignore\")\n",
    "trainer.test_step()"
   ],
   "metadata": {
    "collapsed": false,
    "pycharm": {
     "name": "#%%\n"
    }
   }
  },
  {
   "cell_type": "code",
   "execution_count": null,
   "outputs": [],
   "source": [
    "torch.save(\n",
    "    {\n",
    "        \"epoch\": 5,\n",
    "        \"model_state_dict\": model.state_dict(),\n",
    "        \"optimizer_state_dict\": trainer.optimizer.state_dict(),\n",
    "    },\n",
    "    Path(\"~/data/gnn_tracking/model.pt\").expanduser(),\n",
    ")"
   ],
   "metadata": {
    "collapsed": false,
    "pycharm": {
     "name": "#%%\n"
    }
   }
  },
  {
   "cell_type": "code",
   "execution_count": null,
   "outputs": [],
   "source": [
    "with torch.no_grad():\n",
    "    loader = loaders[\"val\"]\n",
    "    for _batch_idx, data in enumerate(loader):\n",
    "        print(data.sector.unique())"
   ],
   "metadata": {
    "collapsed": false,
    "pycharm": {
     "name": "#%%\n"
    }
   }
  },
  {
   "cell_type": "code",
   "execution_count": null,
   "outputs": [],
   "source": [],
   "metadata": {
    "collapsed": false,
    "pycharm": {
     "name": "#%%\n"
    }
   }
  },
  {
   "cell_type": "code",
   "execution_count": null,
   "outputs": [],
   "source": [],
   "metadata": {
    "collapsed": false,
    "pycharm": {
     "name": "#%%\n"
    }
   }
  }
 ],
 "metadata": {
  "kernelspec": {
   "display_name": "Python 3 (ipykernel)",
   "language": "python",
   "name": "python3"
  },
  "language_info": {
   "codemirror_mode": {
    "name": "ipython",
    "version": 3
   },
   "file_extension": ".py",
   "mimetype": "text/x-python",
   "name": "python",
   "nbconvert_exporter": "python",
   "pygments_lexer": "ipython3",
   "version": "3.9.12"
  }
 },
 "nbformat": 4,
 "nbformat_minor": 5
}